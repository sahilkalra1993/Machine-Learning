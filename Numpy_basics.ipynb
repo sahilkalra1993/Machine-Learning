{
 "cells": [
  {
   "cell_type": "markdown",
   "metadata": {},
   "source": [
    "# Numpy Important Functions"
   ]
  },
  {
   "cell_type": "code",
   "execution_count": 1,
   "metadata": {},
   "outputs": [],
   "source": [
    "import numpy as np"
   ]
  },
  {
   "cell_type": "markdown",
   "metadata": {},
   "source": [
    "#   "
   ]
  },
  {
   "cell_type": "markdown",
   "metadata": {},
   "source": [
    "## Creating Arrays"
   ]
  },
  {
   "cell_type": "markdown",
   "metadata": {},
   "source": [
    "### *1. Making an 1D Array*"
   ]
  },
  {
   "cell_type": "code",
   "execution_count": 2,
   "metadata": {},
   "outputs": [
    {
     "data": {
      "text/plain": [
       "array([1., 4., 5., 8.])"
      ]
     },
     "execution_count": 2,
     "metadata": {},
     "output_type": "execute_result"
    }
   ],
   "source": [
    "# np.array( [list of data] , dtype)\n",
    "array = np.array([1, 4, 5, 8], dtype=float)\n",
    "array"
   ]
  },
  {
   "cell_type": "code",
   "execution_count": 3,
   "metadata": {},
   "outputs": [
    {
     "data": {
      "text/plain": [
       "array([1, 4, 5, 8])"
      ]
     },
     "execution_count": 3,
     "metadata": {},
     "output_type": "execute_result"
    }
   ],
   "source": [
    "array = np.array([1, 4, 5, 8], dtype=int)\n",
    "array"
   ]
  },
  {
   "cell_type": "markdown",
   "metadata": {},
   "source": [
    "### *2. Making a 2D Array *"
   ]
  },
  {
   "cell_type": "code",
   "execution_count": 4,
   "metadata": {},
   "outputs": [
    {
     "data": {
      "text/plain": [
       "array([[ 1.,  4.,  5.,  8.],\n",
       "       [ 2.,  8., 10., 16.]])"
      ]
     },
     "execution_count": 4,
     "metadata": {},
     "output_type": "execute_result"
    }
   ],
   "source": [
    "# np.array( [ [list of data], [list of data], .... ] , dtype)\n",
    "array = np.array([ [1, 4, 5, 8], [2, 8, 10, 16]], dtype=float)\n",
    "array"
   ]
  },
  {
   "cell_type": "markdown",
   "metadata": {},
   "source": [
    "### *3. Making 3D Array*"
   ]
  },
  {
   "cell_type": "code",
   "execution_count": 5,
   "metadata": {},
   "outputs": [
    {
     "data": {
      "text/plain": [
       "array([[[ 1.,  4.,  5.,  8.],\n",
       "        [ 2.,  8., 10., 16.]],\n",
       "\n",
       "       [[ 1.,  4.,  5.,  8.],\n",
       "        [ 2.,  8., 10., 16.]]])"
      ]
     },
     "execution_count": 5,
     "metadata": {},
     "output_type": "execute_result"
    }
   ],
   "source": [
    "# np.array( [[[list of data], [list of data]],  [[list of data], [list of data]].... ] , dtype)\n",
    "array = np.array([ [[1, 4, 5, 8], [2, 8, 10, 16]], [[1, 4, 5, 8], [2, 8, 10, 16]] ] , dtype=float)\n",
    "array"
   ]
  },
  {
   "cell_type": "markdown",
   "metadata": {},
   "source": [
    "### *4. Making an array of all 0's, 1's, identitiy Matrix, Random Number*\n",
    "\n",
    "- All below examples are for 2D arrays, similarly 3D can be made by changing size variable. For example\n",
    "    - size = (2,4)   -->    2 D array\n",
    "    - size = (2,3,4) -->    3 D array"
   ]
  },
  {
   "cell_type": "code",
   "execution_count": 6,
   "metadata": {},
   "outputs": [
    {
     "name": "stdout",
     "output_type": "stream",
     "text": [
      "array_zero\n",
      "================\n",
      "\n",
      "[[0 0 0 0]\n",
      " [0 0 0 0]]\n",
      "\n",
      "array_ones\n",
      "================\n",
      "\n",
      "[[1 1 1 1]\n",
      " [1 1 1 1]]\n",
      "\n",
      "array_identity\n",
      "================\n",
      "\n",
      "[[1 0]\n",
      " [0 1]]\n",
      "\n",
      "array_random_int\n",
      "================\n",
      "\n",
      "[[8 1 5 8]\n",
      " [4 3 4 7]]\n",
      "\n",
      "array_random_float\n",
      "================\n",
      "\n",
      "[[1.68676345 5.75405344 6.22854117 1.02620212]\n",
      " [8.72837305 9.12843583 7.68994456 5.45371696]]\n",
      "\n",
      "array_random_float_01\n",
      "================\n",
      "\n",
      "[[0.89399036 0.90703941 0.45908008 0.59364411]\n",
      " [0.87560858 0.55840455 0.02438797 0.12963877]]\n",
      "\n",
      "array_random_int_3D\n",
      "================\n",
      "\n",
      "[[[9 3 6 4]\n",
      "  [9 8 7 9]]\n",
      "\n",
      " [[1 2 4 4]\n",
      "  [7 4 6 1]]]\n",
      "\n"
     ]
    }
   ],
   "source": [
    "# All zeros\n",
    "# np.zeros( (shape of array), dtype )\n",
    "array_zero = np.zeros((2,4), dtype=int)\n",
    "print \"array_zero\\n================\\n\"\n",
    "print array_zero\n",
    "print ''\n",
    "\n",
    "# np.ones( (shape of array), dtype )\n",
    "array_ones = np.ones((2,4), dtype=int)\n",
    "print'array_ones\\n================\\n'\n",
    "print array_ones\n",
    "print ''\n",
    "\n",
    "# np.eye( n, dtype ), where matrix will be n*n\n",
    "array_identity = np.eye(2, dtype=int)\n",
    "print 'array_identity\\n================\\n'\n",
    "print array_identity\n",
    "print ''\n",
    "\n",
    "# Random Integer array\n",
    "# np.random.randint()\n",
    "array_random_int = np.random.randint(low= 1, high=10, size=(2,4))\n",
    "print 'array_random_int\\n================\\n'\n",
    "print array_random_int\n",
    "print ''\n",
    "\n",
    "# Random Float array\n",
    "array_random_float = np.random.uniform(low=1, high=10, size=(2,4))\n",
    "print 'array_random_float\\n================\\n'\n",
    "print array_random_float\n",
    "print ''\n",
    "\n",
    "# Random flaot array between 0 and 1\n",
    "array_random_float_01 = np.random.random(size=(2,4))\n",
    "print 'array_random_float_01\\n================\\n'\n",
    "print array_random_float_01\n",
    "print ''\n",
    "\n",
    "# Example of 3 D array\n",
    "# 3D array of random integers\n",
    "array_random_int_3D = np.random.randint(low= 1, high=10, size=(2,2,4), dtype=int)\n",
    "print 'array_random_int_3D\\n================\\n'\n",
    "print array_random_int_3D\n",
    "print ''"
   ]
  },
  {
   "cell_type": "markdown",
   "metadata": {},
   "source": [
    "## Traversing Arrays"
   ]
  },
  {
   "cell_type": "code",
   "execution_count": 7,
   "metadata": {},
   "outputs": [
    {
     "name": "stdout",
     "output_type": "stream",
     "text": [
      "(2L, 2L, 4L)\n",
      "\n",
      "[[[9 3 6 4]\n",
      "  [9 8 7 9]]\n",
      "\n",
      " [[1 2 4 4]\n",
      "  [7 4 6 1]]]\n"
     ]
    }
   ],
   "source": [
    "# Using 3D int array : array_random_int_3D\n",
    "\n",
    "print array_random_int_3D.shape\n",
    "print ''\n",
    "print array_random_int_3D\n"
   ]
  },
  {
   "cell_type": "code",
   "execution_count": 8,
   "metadata": {},
   "outputs": [
    {
     "name": "stdout",
     "output_type": "stream",
     "text": [
      "\n",
      "Choosing sub array 0\n",
      "[[9 3 6 4]\n",
      " [9 8 7 9]]\n",
      "\n",
      "Choosing sub array 1\n",
      "[[1 2 4 4]\n",
      " [7 4 6 1]]\n",
      "\n",
      "\n",
      "\n",
      "Indexing sub array 0, row 0\n",
      "[9 3 6 4]\n",
      "\n",
      "Indexing sub array 0, row 1\n",
      "[9 8 7 9]\n",
      "\n",
      "\n",
      "\n",
      "Indexing sub array 0, row 0, column 0\n",
      "9\n",
      "\n",
      "Indexing sub array 0, row 0, column 3\n",
      "4\n",
      "\n",
      "Indexing sub array 0, row 0, column 3 : Way 2\n",
      "4\n",
      "\n",
      "Indexing sub array 0 & 1, row 0, column 2 & 3\n",
      "[[6 4]\n",
      " [4 4]]\n",
      "\n",
      "Looping\n",
      "[9 6]\n",
      "[9 7]\n",
      "[1 4]\n",
      "[7 6]\n"
     ]
    }
   ],
   "source": [
    "print \"\\nChoosing sub array 0\"\n",
    "print array_random_int_3D[0]\n",
    "print \"\\nChoosing sub array 1\"\n",
    "print array_random_int_3D[1]\n",
    "print '\\n'\n",
    "\n",
    "print \"\\nIndexing sub array 0, row 0\"\n",
    "print array_random_int_3D[0][0]\n",
    "print \"\\nIndexing sub array 0, row 1\"\n",
    "print array_random_int_3D[0][1]\n",
    "print '\\n'\n",
    "\n",
    "print \"\\nIndexing sub array 0, row 0, column 0\"\n",
    "print array_random_int_3D[0][0][0]\n",
    "print \"\\nIndexing sub array 0, row 0, column 3\"\n",
    "print array_random_int_3D[0][0][3]\n",
    "\n",
    "# Same above statements can be written as below in single braces\n",
    "print \"\\nIndexing sub array 0, row 0, column 3 : Way 2\"\n",
    "print array_random_int_3D[0,0,3]\n",
    "\n",
    "# Getting a subset of array\n",
    "# We want to get [4 8][5 6], i.e. subarray-0, row-0, columnn-2 & 3 and  subarray-1, row-0, columnn-2 & 3 \n",
    "print \"\\nIndexing sub array 0 & 1, row 0, column 2 & 3\"\n",
    "print array_random_int_3D[:,0,2:]\n",
    "\n",
    "# Looping using for loop\n",
    "# We want to get [3,4],[9,2],[7,5],[6,4] i.e. alternate.\n",
    "# subarray-0, row-0, col-0,2\n",
    "#             row-1, col-0,2\n",
    "# subarray-1, row-0, col-0,2\n",
    "#             row-1, col-0,2\n",
    "print \"\\nLooping\"\n",
    "for i in range(2):\n",
    "    for j in range(2):\n",
    "        print array_random_int_3D[i,j,[0,2]]"
   ]
  },
  {
   "cell_type": "markdown",
   "metadata": {},
   "source": [
    "## Numpy Arithmetics"
   ]
  },
  {
   "cell_type": "code",
   "execution_count": 9,
   "metadata": {},
   "outputs": [],
   "source": [
    "a = np.array([[1,2,3,4],[5,6,7,8]], dtype=int)\n",
    "b = np.array([[9,10,11,12],[13,14,15,16]], dtype=int)"
   ]
  },
  {
   "cell_type": "code",
   "execution_count": 10,
   "metadata": {},
   "outputs": [
    {
     "name": "stdout",
     "output_type": "stream",
     "text": [
      "a\n",
      "[[1 2 3 4]\n",
      " [5 6 7 8]]\n",
      "b\n",
      "[[ 9 10 11 12]\n",
      " [13 14 15 16]]\n",
      "\n",
      "======\n",
      "\n",
      "Value before addition (Broadcasting)\n",
      "[[1 2 3 4]\n",
      " [5 6 7 8]]\n",
      "Value after addition a+1 (Broadcasting)\n",
      "[[2 3 4 5]\n",
      " [6 7 8 9]]\n",
      "\n",
      "======\n",
      "\n",
      "Value before addition (matrix operation)\n",
      "[[1 2 3 4]\n",
      " [5 6 7 8]]\n",
      "Value after addition a+b (matrix operation)\n",
      "[[10 12 14 16]\n",
      " [18 20 22 24]]\n",
      "\n",
      "======\n",
      "\n",
      "shapes (2,4) and (2,4) not aligned: 4 (dim 1) != 2 (dim 0)\n",
      "\n",
      " reshaping b to make shape (4,2)\n",
      "\n",
      "a\n",
      "[[1 2 3 4]\n",
      " [5 6 7 8]]\n",
      "d\n"
     ]
    },
    {
     "ename": "NameError",
     "evalue": "name 'd' is not defined",
     "output_type": "error",
     "traceback": [
      "\u001b[1;31m---------------------------------------------------------------------------\u001b[0m",
      "\u001b[1;31mNameError\u001b[0m                                 Traceback (most recent call last)",
      "\u001b[1;32m<ipython-input-10-76e4c3cd8e4e>\u001b[0m in \u001b[0;36m<module>\u001b[1;34m()\u001b[0m\n\u001b[0;32m     39\u001b[0m \u001b[1;32mprint\u001b[0m \u001b[0ma\u001b[0m\u001b[1;33m\u001b[0m\u001b[0m\n\u001b[0;32m     40\u001b[0m \u001b[1;32mprint\u001b[0m \u001b[1;34m'd'\u001b[0m\u001b[1;33m\u001b[0m\u001b[0m\n\u001b[1;32m---> 41\u001b[1;33m \u001b[1;32mprint\u001b[0m \u001b[0md\u001b[0m\u001b[1;33m\u001b[0m\u001b[0m\n\u001b[0m\u001b[0;32m     42\u001b[0m \u001b[1;32mprint\u001b[0m \u001b[1;34m\"\\n======\\n\"\u001b[0m\u001b[1;33m\u001b[0m\u001b[0m\n\u001b[0;32m     43\u001b[0m \u001b[0md\u001b[0m \u001b[1;33m=\u001b[0m \u001b[0mb\u001b[0m\u001b[1;33m.\u001b[0m\u001b[0mreshape\u001b[0m\u001b[1;33m(\u001b[0m\u001b[1;36m4\u001b[0m\u001b[1;33m,\u001b[0m\u001b[1;36m2\u001b[0m\u001b[1;33m)\u001b[0m\u001b[1;33m\u001b[0m\u001b[0m\n",
      "\u001b[1;31mNameError\u001b[0m: name 'd' is not defined"
     ]
    }
   ],
   "source": [
    "print 'a'\n",
    "print a\n",
    "print 'b'\n",
    "print b\n",
    "print \"\\n======\\n\"\n",
    "\n",
    "\n",
    "# Scaler operation (Broadcasting)\n",
    "# same applies to all 5 opertions, +, -, *, /, %\n",
    "\n",
    "c = a\n",
    "print 'Value before addition (Broadcasting)'\n",
    "print c\n",
    "c = a+1\n",
    "print 'Value after addition a+1 (Broadcasting)'\n",
    "print c\n",
    "print \"\\n======\\n\"\n",
    "\n",
    "\n",
    "# matrix operation, element by element\n",
    "# same applies to all 5 opertions, +, -, *, /, %\n",
    "c = a\n",
    "print 'Value before addition (matrix operation)'\n",
    "print c\n",
    "c = a+b\n",
    "print 'Value after addition a+b (matrix operation)'\n",
    "print c\n",
    "print \"\\n======\\n\"\n",
    "\n",
    "# matrix multiplication -- dot product\n",
    "try:\n",
    "    c = np.dot(a,b)\n",
    "except Exception as e:\n",
    "    print e\n",
    "# for Dot product of a and b, the size should be (n*m).(m,k) which is not the case here, so we will reshape b\n",
    "\n",
    "print \"\\n reshaping b to make shape (4,2)\\n\"\n",
    "print 'a'\n",
    "print a\n",
    "print 'd'\n",
    "print d\n",
    "print \"\\n======\\n\"\n",
    "d = b.reshape(4,2)\n",
    "c = np.dot(a,d)\n",
    "print 'Value after dot product a.d '\n",
    "print c\n"
   ]
  },
  {
   "cell_type": "markdown",
   "metadata": {},
   "source": [
    "## Reshaping array"
   ]
  },
  {
   "cell_type": "code",
   "execution_count": 11,
   "metadata": {},
   "outputs": [
    {
     "name": "stdout",
     "output_type": "stream",
     "text": [
      "[[1 2 3 4]\n",
      " [5 6 7 8]]\n",
      "\n",
      "(2L, 4L)\n"
     ]
    }
   ],
   "source": [
    "print a\n",
    "print ''\n",
    "print a.shape"
   ]
  },
  {
   "cell_type": "code",
   "execution_count": 12,
   "metadata": {},
   "outputs": [
    {
     "name": "stdout",
     "output_type": "stream",
     "text": [
      "\n",
      "Shape (8*1)\n",
      "[[1]\n",
      " [2]\n",
      " [3]\n",
      " [4]\n",
      " [5]\n",
      " [6]\n",
      " [7]\n",
      " [8]]\n",
      "\n",
      "Shape (1*8)\n",
      "[[1 2 3 4 5 6 7 8]]\n",
      "\n",
      "Shape (2*2*2)\n",
      "[[[1 2]\n",
      "  [3 4]]\n",
      "\n",
      " [[5 6]\n",
      "  [7 8]]]\n"
     ]
    }
   ],
   "source": [
    "# since shape of a is (2,4) so we can reshape it in factors of 8 only. i.e 2*4, 4*2, 2*2*2\n",
    "print \"\\nShape (8*1)\"\n",
    "print a.reshape(8,1)\n",
    "print \"\\nShape (1*8)\"\n",
    "print a.reshape(1,8)\n",
    "print \"\\nShape (2*2*2)\"\n",
    "print a.reshape(2,2,2)"
   ]
  },
  {
   "cell_type": "markdown",
   "metadata": {},
   "source": [
    "### *Meaning of -1 in reshaping*\n",
    "### *-1 is used if that dimension is not known*"
   ]
  },
  {
   "cell_type": "code",
   "execution_count": 26,
   "metadata": {},
   "outputs": [
    {
     "data": {
      "text/plain": [
       "(16L,)"
      ]
     },
     "execution_count": 26,
     "metadata": {},
     "output_type": "execute_result"
    }
   ],
   "source": [
    "# Example\n",
    "array = np.array([1,2,3,4,5,6,7,8,9,1,2,3,4,5,6,7])\n",
    "array.shape"
   ]
  },
  {
   "cell_type": "code",
   "execution_count": 31,
   "metadata": {},
   "outputs": [
    {
     "name": "stdout",
     "output_type": "stream",
     "text": [
      "Original array\n",
      "[1 2 3 4 5 6 7 8 9 1 2 3 4 5 6 7]\n",
      "\n",
      "array.reshape(4,4, order='C'), order is C\n",
      "[[1 2 3 4]\n",
      " [5 6 7 8]\n",
      " [9 1 2 3]\n",
      " [4 5 6 7]]\n",
      "\n",
      "array.reshape(4,4,order='F'), order is F\n",
      "[[1 5 9 4]\n",
      " [2 6 1 5]\n",
      " [3 7 2 6]\n",
      " [4 8 3 7]]\n",
      "\n",
      "\n",
      "For all further examples, by default the order is C\n",
      "\n",
      "array.reshape(2,8)\n",
      "[[1 2 3 4 5 6 7 8]\n",
      " [9 1 2 3 4 5 6 7]]\n",
      "\n",
      "array.reshape(1,-1)\n",
      "[[1 2 3 4 5 6 7 8 9 1 2 3 4 5 6 7]]\n",
      "\n",
      "array.reshape(-1,1)\n",
      "[[1]\n",
      " [2]\n",
      " [3]\n",
      " [4]\n",
      " [5]\n",
      " [6]\n",
      " [7]\n",
      " [8]\n",
      " [9]\n",
      " [1]\n",
      " [2]\n",
      " [3]\n",
      " [4]\n",
      " [5]\n",
      " [6]\n",
      " [7]]\n",
      "\n",
      "array.reshape(-1,2)\n",
      "[[1 2]\n",
      " [3 4]\n",
      " [5 6]\n",
      " [7 8]\n",
      " [9 1]\n",
      " [2 3]\n",
      " [4 5]\n",
      " [6 7]]\n",
      "\n",
      "array.reshape(-1)\n",
      "[1 2 3 4 5 6 7 8 9 1 2 3 4 5 6 7]\n",
      "\n"
     ]
    }
   ],
   "source": [
    "a = array\n",
    "\n",
    "print 'Original array'\n",
    "print a\n",
    "print ''\n",
    "\n",
    "# Reshaping to 4*4, when Order is C\n",
    "a = array.reshape(4,4, order='C')\n",
    "print 'array.reshape(4,4, order=\\'C\\'), order is C'\n",
    "print a\n",
    "print ''\n",
    "\n",
    "# Reshaping to 4*4, when Order is F\n",
    "a = array.reshape(4,4,order='F')\n",
    "print 'array.reshape(4,4,order=\\'F\\'), order is F'\n",
    "print a\n",
    "print ''\n",
    "\n",
    "# For all further examples, by default the order is C\n",
    "print \"\\nFor all further examples, by default the order is C\\n\"\n",
    "\n",
    "# Reshaping to 2*8\n",
    "a = array.reshape(2,8)\n",
    "print 'array.reshape(2,8)'\n",
    "print a\n",
    "print ''\n",
    "\n",
    "# Let's say we want to reshape to 1 row, but no idea about columns\n",
    "a = array.reshape(1,-1)\n",
    "# Here column = -1, i.e. take row =1 , and adjust column automatically\n",
    "print 'array.reshape(1,-1)'\n",
    "print a\n",
    "print ''\n",
    "\n",
    "# Similarly, we want to reshape to 1 column, but no idea about rows\n",
    "a = array.reshape(-1,1)\n",
    "print 'array.reshape(-1,1)'\n",
    "print a\n",
    "print ''\n",
    "\n",
    "\n",
    "# Similarly, we want to reshape to 2 column, but no idea about rows\n",
    "a = array.reshape(-1,2)\n",
    "print 'array.reshape(-1,2)'\n",
    "print a\n",
    "print ''\n",
    "\n",
    "# and so on.\n",
    "# Important : Both i.e. row and column cannot be made -1. One parameter is to be specified and other can be adjusted.\n",
    "a = array.reshape(-1)\n",
    "print 'array.reshape(-1)'\n",
    "# Only giving one parameter i.e. -1 will convert the array to 1*n array, where n is the number of elements.\n",
    "print a\n",
    "print ''\n"
   ]
  },
  {
   "cell_type": "code",
   "execution_count": null,
   "metadata": {},
   "outputs": [],
   "source": []
  }
 ],
 "metadata": {
  "kernelspec": {
   "display_name": "Python 2",
   "language": "python",
   "name": "python2"
  },
  "language_info": {
   "codemirror_mode": {
    "name": "ipython",
    "version": 2
   },
   "file_extension": ".py",
   "mimetype": "text/x-python",
   "name": "python",
   "nbconvert_exporter": "python",
   "pygments_lexer": "ipython2",
   "version": "2.7.15"
  }
 },
 "nbformat": 4,
 "nbformat_minor": 2
}
