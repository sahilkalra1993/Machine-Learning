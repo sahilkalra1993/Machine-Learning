{
 "cells": [
  {
   "cell_type": "markdown",
   "metadata": {},
   "source": [
    "# Numpy Important Functions"
   ]
  },
  {
   "cell_type": "code",
   "execution_count": 2,
   "metadata": {},
   "outputs": [],
   "source": [
    "import numpy as np"
   ]
  },
  {
   "cell_type": "markdown",
   "metadata": {},
   "source": [
    "#   "
   ]
  },
  {
   "cell_type": "markdown",
   "metadata": {},
   "source": [
    "## Creating Arrays"
   ]
  },
  {
   "cell_type": "markdown",
   "metadata": {},
   "source": [
    "### *1. Making an 1D Array*"
   ]
  },
  {
   "cell_type": "code",
   "execution_count": 3,
   "metadata": {},
   "outputs": [
    {
     "data": {
      "text/plain": [
       "array([1., 4., 5., 8.])"
      ]
     },
     "execution_count": 3,
     "metadata": {},
     "output_type": "execute_result"
    }
   ],
   "source": [
    "# np.array( [list of data] , dtype)\n",
    "array = np.array([1, 4, 5, 8], dtype=float)\n",
    "array"
   ]
  },
  {
   "cell_type": "code",
   "execution_count": 4,
   "metadata": {},
   "outputs": [
    {
     "data": {
      "text/plain": [
       "array([1, 4, 5, 8])"
      ]
     },
     "execution_count": 4,
     "metadata": {},
     "output_type": "execute_result"
    }
   ],
   "source": [
    "array = np.array([1, 4, 5, 8], dtype=int)\n",
    "array"
   ]
  },
  {
   "cell_type": "markdown",
   "metadata": {},
   "source": [
    "### *2. Making a 2D Array *"
   ]
  },
  {
   "cell_type": "code",
   "execution_count": 5,
   "metadata": {},
   "outputs": [
    {
     "data": {
      "text/plain": [
       "array([[ 1.,  4.,  5.,  8.],\n",
       "       [ 2.,  8., 10., 16.]])"
      ]
     },
     "execution_count": 5,
     "metadata": {},
     "output_type": "execute_result"
    }
   ],
   "source": [
    "# np.array( [ [list of data], [list of data], .... ] , dtype)\n",
    "array = np.array([ [1, 4, 5, 8], [2, 8, 10, 16]], dtype=float)\n",
    "array"
   ]
  },
  {
   "cell_type": "markdown",
   "metadata": {},
   "source": [
    "### *3. Making 3D Array*"
   ]
  },
  {
   "cell_type": "code",
   "execution_count": 29,
   "metadata": {},
   "outputs": [
    {
     "data": {
      "text/plain": [
       "array([[[ 1.,  4.,  5.,  8.],\n",
       "        [ 2.,  8., 10., 16.]],\n",
       "\n",
       "       [[ 1.,  4.,  5.,  8.],\n",
       "        [ 2.,  8., 10., 16.]]])"
      ]
     },
     "execution_count": 29,
     "metadata": {},
     "output_type": "execute_result"
    }
   ],
   "source": [
    "# np.array( [[[list of data], [list of data]],  [[list of data], [list of data]].... ] , dtype)\n",
    "array = np.array([ [[1, 4, 5, 8], [2, 8, 10, 16]], [[1, 4, 5, 8], [2, 8, 10, 16]] ] , dtype=float)\n",
    "array"
   ]
  },
  {
   "cell_type": "markdown",
   "metadata": {},
   "source": [
    "### *4. Making an array of all 0's, 1's, identitiy Matrix, Random Number*\n",
    "\n",
    "- All below examples are for 2D arrays, similarly 3D can be made by changing size variable. For example\n",
    "    - size = (2,4)   -->    2 D array\n",
    "    - size = (2,3,4) -->    3 D array"
   ]
  },
  {
   "cell_type": "code",
   "execution_count": 40,
   "metadata": {},
   "outputs": [
    {
     "name": "stdout",
     "output_type": "stream",
     "text": [
      "array_zero\n",
      "================\n",
      "\n",
      "[[0 0 0 0]\n",
      " [0 0 0 0]]\n",
      "\n",
      "array_ones\n",
      "================\n",
      "\n",
      "[[1 1 1 1]\n",
      " [1 1 1 1]]\n",
      "\n",
      "array_identity\n",
      "================\n",
      "\n",
      "[[1 0]\n",
      " [0 1]]\n",
      "\n",
      "array_random_int\n",
      "================\n",
      "\n",
      "[[1 7 6 2]\n",
      " [5 6 3 1]]\n",
      "\n",
      "array_random_float\n",
      "================\n",
      "\n",
      "[[8.37637221 1.7462615  5.92579649 1.18031008]\n",
      " [9.99858075 7.40270748 1.19483602 8.33297046]]\n",
      "\n",
      "array_random_float_01\n",
      "================\n",
      "\n",
      "[[0.11017426 0.7265222  0.94493995 0.40313578]\n",
      " [0.64890465 0.55634249 0.4634528  0.64798374]]\n",
      "\n",
      "array_random_int_3D\n",
      "================\n",
      "\n",
      "[[[3 8 4 8]\n",
      "  [9 8 2 5]]\n",
      "\n",
      " [[7 3 5 6]\n",
      "  [6 6 4 5]]]\n",
      "\n"
     ]
    }
   ],
   "source": [
    "# All zeros\n",
    "# np.zeros( (shape of array), dtype )\n",
    "array_zero = np.zeros((2,4), dtype=int)\n",
    "print \"array_zero\\n================\\n\"\n",
    "print array_zero\n",
    "print ''\n",
    "\n",
    "# np.ones( (shape of array), dtype )\n",
    "array_ones = np.ones((2,4), dtype=int)\n",
    "print'array_ones\\n================\\n'\n",
    "print array_ones\n",
    "print ''\n",
    "\n",
    "# np.eye( n, dtype ), where matrix will be n*n\n",
    "array_identity = np.eye(2, dtype=int)\n",
    "print 'array_identity\\n================\\n'\n",
    "print array_identity\n",
    "print ''\n",
    "\n",
    "# Random Integer array\n",
    "# np.random.randint()\n",
    "array_random_int = np.random.randint(low= 1, high=10, size=(2,4))\n",
    "print 'array_random_int\\n================\\n'\n",
    "print array_random_int\n",
    "print ''\n",
    "\n",
    "# Random Float array\n",
    "array_random_float = np.random.uniform(low=1, high=10, size=(2,4))\n",
    "print 'array_random_float\\n================\\n'\n",
    "print array_random_float\n",
    "print ''\n",
    "\n",
    "# Random flaot array between 0 and 1\n",
    "array_random_float_01 = np.random.random(size=(2,4))\n",
    "print 'array_random_float_01\\n================\\n'\n",
    "print array_random_float_01\n",
    "print ''\n",
    "\n",
    "# Example of 3 D array\n",
    "# 3D array of random integers\n",
    "array_random_int_3D = np.random.randint(low= 1, high=10, size=(2,2,4), dtype=int)\n",
    "print 'array_random_int_3D\\n================\\n'\n",
    "print array_random_int_3D\n",
    "print ''"
   ]
  },
  {
   "cell_type": "markdown",
   "metadata": {},
   "source": [
    "## Traversing Arrays"
   ]
  },
  {
   "cell_type": "code",
   "execution_count": 41,
   "metadata": {},
   "outputs": [
    {
     "name": "stdout",
     "output_type": "stream",
     "text": [
      "(2L, 2L, 4L)\n",
      "\n",
      "[[[3 8 4 8]\n",
      "  [9 8 2 5]]\n",
      "\n",
      " [[7 3 5 6]\n",
      "  [6 6 4 5]]]\n"
     ]
    }
   ],
   "source": [
    "# Using 3D int array : array_random_int_3D\n",
    "\n",
    "print array_random_int_3D.shape\n",
    "print ''\n",
    "print array_random_int_3D\n"
   ]
  },
  {
   "cell_type": "code",
   "execution_count": 81,
   "metadata": {},
   "outputs": [
    {
     "name": "stdout",
     "output_type": "stream",
     "text": [
      "\n",
      "Choosing sub array 0\n",
      "[[3 8 4 8]\n",
      " [9 8 2 5]]\n",
      "\n",
      "Choosing sub array 1\n",
      "[[7 3 5 6]\n",
      " [6 6 4 5]]\n",
      "\n",
      "\n",
      "\n",
      "Indexing sub array 0, row 0\n",
      "[3 8 4 8]\n",
      "\n",
      "Indexing sub array 0, row 1\n",
      "[9 8 2 5]\n",
      "\n",
      "\n",
      "\n",
      "Indexing sub array 0, row 0, column 0\n",
      "3\n",
      "\n",
      "Indexing sub array 0, row 0, column 3\n",
      "8\n",
      "\n",
      "Indexing sub array 0, row 0, column 3 : Way 2\n",
      "8\n",
      "\n",
      "Indexing sub array 0 & 1, row 0, column 2 & 3\n",
      "[[4 8]\n",
      " [5 6]]\n",
      "\n",
      "Looping\n",
      "[3 4]\n",
      "[9 2]\n",
      "[7 5]\n",
      "[6 4]\n"
     ]
    }
   ],
   "source": [
    "print \"\\nChoosing sub array 0\"\n",
    "print array_random_int_3D[0]\n",
    "print \"\\nChoosing sub array 1\"\n",
    "print array_random_int_3D[1]\n",
    "print '\\n'\n",
    "\n",
    "print \"\\nIndexing sub array 0, row 0\"\n",
    "print array_random_int_3D[0][0]\n",
    "print \"\\nIndexing sub array 0, row 1\"\n",
    "print array_random_int_3D[0][1]\n",
    "print '\\n'\n",
    "\n",
    "print \"\\nIndexing sub array 0, row 0, column 0\"\n",
    "print array_random_int_3D[0][0][0]\n",
    "print \"\\nIndexing sub array 0, row 0, column 3\"\n",
    "print array_random_int_3D[0][0][3]\n",
    "\n",
    "# Same above statements can be written as below in single braces\n",
    "print \"\\nIndexing sub array 0, row 0, column 3 : Way 2\"\n",
    "print array_random_int_3D[0,0,3]\n",
    "\n",
    "# Getting a subset of array\n",
    "# We want to get [4 8][5 6], i.e. subarray-0, row-0, columnn-2 & 3 and  subarray-1, row-0, columnn-2 & 3 \n",
    "print \"\\nIndexing sub array 0 & 1, row 0, column 2 & 3\"\n",
    "print array_random_int_3D[:,0,2:]\n",
    "\n",
    "# Looping using for loop\n",
    "# We want to get [3,4],[9,2],[7,5],[6,4] i.e. alternate.\n",
    "# subarray-0, row-0, col-0,2\n",
    "#             row-1, col-0,2\n",
    "# subarray-1, row-0, col-0,2\n",
    "#             row-1, col-0,2\n",
    "print \"\\nLooping\"\n",
    "for i in range(2):\n",
    "    for j in range(2):\n",
    "        print array_random_int_3D[i,j,[0,2]]"
   ]
  },
  {
   "cell_type": "markdown",
   "metadata": {},
   "source": [
    "## Numpy Arithmetics"
   ]
  },
  {
   "cell_type": "code",
   "execution_count": 111,
   "metadata": {},
   "outputs": [],
   "source": [
    "a = np.array([[1,2,3,4],[5,6,7,8]], dtype=int)\n",
    "b = np.array([[9,10,11,12],[13,14,15,16]], dtype=int)"
   ]
  },
  {
   "cell_type": "code",
   "execution_count": 118,
   "metadata": {},
   "outputs": [
    {
     "name": "stdout",
     "output_type": "stream",
     "text": [
      "a\n",
      "[[1 2 3 4]\n",
      " [5 6 7 8]]\n",
      "b\n",
      "[[ 9 10 11 12]\n",
      " [13 14 15 16]]\n",
      "\n",
      "======\n",
      "\n",
      "Value before addition (Broadcasting)\n",
      "[[1 2 3 4]\n",
      " [5 6 7 8]]\n",
      "Value after addition a+1 (Broadcasting)\n",
      "[[2 3 4 5]\n",
      " [6 7 8 9]]\n",
      "\n",
      "======\n",
      "\n",
      "Value before addition (matrix operation)\n",
      "[[1 2 3 4]\n",
      " [5 6 7 8]]\n",
      "Value after addition a+b (matrix operation)\n",
      "[[10 12 14 16]\n",
      " [18 20 22 24]]\n",
      "\n",
      "======\n",
      "\n",
      "shapes (2,4) and (2,4) not aligned: 4 (dim 1) != 2 (dim 0)\n",
      "\n",
      " reshaping b to make shape (4,2)\n",
      "\n",
      "a\n",
      "[[1 2 3 4]\n",
      " [5 6 7 8]]\n",
      "d\n",
      "[[ 9 10]\n",
      " [11 12]\n",
      " [13 14]\n",
      " [15 16]]\n",
      "\n",
      "======\n",
      "\n",
      "Value after dot product a.d \n",
      "[[130 140]\n",
      " [322 348]]\n"
     ]
    }
   ],
   "source": [
    "print 'a'\n",
    "print a\n",
    "print 'b'\n",
    "print b\n",
    "print \"\\n======\\n\"\n",
    "\n",
    "\n",
    "# Scaler operation (Broadcasting)\n",
    "# same applies to all 5 opertions, +, -, *, /, %\n",
    "\n",
    "c = a\n",
    "print 'Value before addition (Broadcasting)'\n",
    "print c\n",
    "c = a+1\n",
    "print 'Value after addition a+1 (Broadcasting)'\n",
    "print c\n",
    "print \"\\n======\\n\"\n",
    "\n",
    "\n",
    "# matrix operation, element by element\n",
    "# same applies to all 5 opertions, +, -, *, /, %\n",
    "c = a\n",
    "print 'Value before addition (matrix operation)'\n",
    "print c\n",
    "c = a+b\n",
    "print 'Value after addition a+b (matrix operation)'\n",
    "print c\n",
    "print \"\\n======\\n\"\n",
    "\n",
    "# matrix multiplication -- dot product\n",
    "try:\n",
    "    c = np.dot(a,b)\n",
    "except Exception as e:\n",
    "    print e\n",
    "# for Dot product of a and b, the size should be (n*m).(m,k) which is not the case here, so we will reshape b\n",
    "\n",
    "print \"\\n reshaping b to make shape (4,2)\\n\"\n",
    "print 'a'\n",
    "print a\n",
    "print 'd'\n",
    "print d\n",
    "print \"\\n======\\n\"\n",
    "d = b.reshape(4,2)\n",
    "c = np.dot(a,d)\n",
    "print 'Value after dot product a.d '\n",
    "print c\n"
   ]
  },
  {
   "cell_type": "markdown",
   "metadata": {},
   "source": [
    "## Reshaping array"
   ]
  },
  {
   "cell_type": "code",
   "execution_count": 128,
   "metadata": {},
   "outputs": [
    {
     "name": "stdout",
     "output_type": "stream",
     "text": [
      "[[1 2 3 4]\n",
      " [5 6 7 8]]\n",
      "\n",
      "(2L, 4L)\n"
     ]
    }
   ],
   "source": [
    "print a\n",
    "print ''\n",
    "print a.shape"
   ]
  },
  {
   "cell_type": "code",
   "execution_count": 130,
   "metadata": {},
   "outputs": [
    {
     "name": "stdout",
     "output_type": "stream",
     "text": [
      "\n",
      "Shape (8*1)\n",
      "[[1]\n",
      " [2]\n",
      " [3]\n",
      " [4]\n",
      " [5]\n",
      " [6]\n",
      " [7]\n",
      " [8]]\n",
      "\n",
      "Shape (1*8)\n",
      "[[1 2 3 4 5 6 7 8]]\n",
      "\n",
      "Shape (2*2*2)\n",
      "[[[1 2]\n",
      "  [3 4]]\n",
      "\n",
      " [[5 6]\n",
      "  [7 8]]]\n"
     ]
    }
   ],
   "source": [
    "# since shape of a is (2,4) so we can reshape it in factors of 8 only. i.e 2*4, 4*2, 2*2*2\n",
    "print \"\\nShape (8*1)\"\n",
    "print a.reshape(8,1)\n",
    "print \"\\nShape (1*8)\"\n",
    "print a.reshape(1,8)\n",
    "print \"\\nShape (2*2*2)\"\n",
    "print a.reshape(2,2,2)"
   ]
  }
 ],
 "metadata": {
  "kernelspec": {
   "display_name": "Python 2",
   "language": "python",
   "name": "python2"
  },
  "language_info": {
   "codemirror_mode": {
    "name": "ipython",
    "version": 2
   },
   "file_extension": ".py",
   "mimetype": "text/x-python",
   "name": "python",
   "nbconvert_exporter": "python",
   "pygments_lexer": "ipython2",
   "version": "2.7.15"
  }
 },
 "nbformat": 4,
 "nbformat_minor": 2
}
