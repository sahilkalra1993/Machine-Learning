{
 "cells": [
  {
   "cell_type": "markdown",
   "metadata": {},
   "source": [
    "# Pandas Basics"
   ]
  },
  {
   "cell_type": "markdown",
   "metadata": {},
   "source": [
    "## Pandas Series"
   ]
  },
  {
   "cell_type": "code",
   "execution_count": 1,
   "metadata": {},
   "outputs": [],
   "source": [
    "import pandas as pd\n",
    "import numpy as np\n",
    "import scipy.stats as stats"
   ]
  },
  {
   "cell_type": "code",
   "execution_count": 2,
   "metadata": {},
   "outputs": [
    {
     "name": "stdout",
     "output_type": "stream",
     "text": [
      "dtype: str, data: Tuple\n",
      "1    5\n",
      "2    6\n",
      "3    7\n",
      "4    8\n",
      "dtype: object\n",
      "\n",
      "dtype: int, data: :List\n",
      "1    5\n",
      "2    6\n",
      "3    7\n",
      "4    8\n",
      "dtype: int32\n",
      "\n",
      "dtype: float, data: Array\n",
      "1    5.0\n",
      "2    6.0\n",
      "3    7.0\n",
      "4    8.0\n",
      "dtype: float64\n",
      "\n",
      "dtype: float, data: Dictionary\n",
      "1    5.0\n",
      "2    6.0\n",
      "3    7.0\n",
      "4    8.0\n",
      "dtype: float64\n",
      "\n",
      "dtype: float, data: Scaler\n",
      "1    5.0\n",
      "2    5.0\n",
      "3    5.0\n",
      "4    5.0\n",
      "dtype: float64\n",
      "\n"
     ]
    }
   ],
   "source": [
    "# pd.Series( data = [list of values], index = [List of index], dtype )\n",
    "# list of index = list of data\n",
    "# data can be a list, tuple, Dictionary or array.\n",
    "\n",
    "# dtype = str, data = Tuple\n",
    "series = pd.Series( data = (5, 6, 7, 8), index = [1,2,3,4], dtype=str )\n",
    "print \"dtype: str, data: Tuple\"\n",
    "print series\n",
    "print \"\"\n",
    "\n",
    "# dtype = int, data = List\n",
    "series = pd.Series( data = [5, 6, 7, 8], index = [1,2,3,4], dtype=int )\n",
    "print \"dtype: int, data: :List\"\n",
    "print series\n",
    "print \"\"\n",
    "\n",
    "# dtype = float, data = Array\n",
    "series = pd.Series( data = np.array([5, 6, 7, 8]), index = [1,2,3,4], dtype=float )\n",
    "print \"dtype: float, data: Array\"\n",
    "print series\n",
    "print \"\"\n",
    "\n",
    "# dtype = float, data = Dictionary\n",
    "# when data is a dictionary, then Keys are automatically taken as Index\n",
    "series = pd.Series( data = {1:5, 2:6, 3:7, 4:8}, dtype=float )\n",
    "print \"dtype: float, data: Dictionary\"\n",
    "print series\n",
    "print \"\"\n",
    "\n",
    "# Creating series from a scaler\n",
    "series = pd.Series( data = 5, index = [1,2,3,4], dtype=float )\n",
    "print \"dtype: float, data: Scaler\"\n",
    "print series\n",
    "print \"\""
   ]
  },
  {
   "cell_type": "markdown",
   "metadata": {},
   "source": [
    "## Indexing Series"
   ]
  },
  {
   "cell_type": "code",
   "execution_count": 3,
   "metadata": {},
   "outputs": [
    {
     "name": "stdout",
     "output_type": "stream",
     "text": [
      "\n",
      "series[1] : \n",
      "6.0\n",
      "\n",
      "series.loc['B'] : \n",
      "6.0\n",
      "\n",
      "series.iloc[1] : \n",
      "6.0\n",
      "\n",
      "series[1:4] : \n",
      "B    6.0\n",
      "C    7.0\n",
      "D    8.0\n",
      "dtype: float64\n",
      "\n",
      "series.loc[['B', 'C', 'D']] : \n",
      "B    6.0\n",
      "C    7.0\n",
      "D    8.0\n",
      "dtype: float64\n",
      "series.loc['B':'D'] : \n",
      "B    6.0\n",
      "C    7.0\n",
      "D    8.0\n",
      "dtype: float64\n",
      "\n",
      "series.iloc[1:4] : \n",
      "B    6.0\n",
      "C    7.0\n",
      "D    8.0\n",
      "dtype: float64\n",
      "\n"
     ]
    }
   ],
   "source": [
    "series = pd.Series( data = [5, 6, 7, 8], index = ['A','B','C','D'], dtype=float )\n",
    "\n",
    "# Single element selection \n",
    "\n",
    "# Direct indexing \n",
    "print ''\n",
    "print \"series[1] : \\n\", series[1]\n",
    "print ''\n",
    "\n",
    "# Indexing using loc -- name of index\n",
    "print \"series.loc['B'] : \\n\", series.loc['B']\n",
    "print ''\n",
    "\n",
    "# Indexing using iloc -- numeric index staring from 0\n",
    "print \"series.iloc[1] : \\n\", series.iloc[1]\n",
    "print ''\n",
    "\n",
    "\n",
    "# Multiple element selection\n",
    "\n",
    "# Direct indexing \n",
    "print \"series[1:4] : \\n\", series[1:4]\n",
    "print ''\n",
    "\n",
    "# Indexing using loc -- name of index\n",
    "print \"series.loc[['B', 'C', 'D']] : \\n\", series.loc[['B', 'C', 'D']]\n",
    "print \"series.loc['B':'D'] : \\n\", series.loc['B':'D']\n",
    "print ''\n",
    "\n",
    "\n",
    "# Indexing using iloc -- numeric index staring from 0\n",
    "print \"series.iloc[1:4] : \\n\", series.iloc[1:4]\n",
    "print ''\n"
   ]
  },
  {
   "cell_type": "markdown",
   "metadata": {},
   "source": [
    "## Common Functions for Series"
   ]
  },
  {
   "cell_type": "code",
   "execution_count": 4,
   "metadata": {},
   "outputs": [
    {
     "name": "stdout",
     "output_type": "stream",
     "text": [
      "0      1\n",
      "1      2\n",
      "2      3\n",
      "3      3\n",
      "4      4\n",
      "5      6\n",
      "6      7\n",
      "7      7\n",
      "8      7\n",
      "9      8\n",
      "10    10\n",
      "11    15\n",
      "12    22\n",
      "13    36\n",
      "dtype: int64\n"
     ]
    }
   ],
   "source": [
    "series = pd.Series(data=[1,2,3,3,4,6,7,7,7,8,10,15,22,36])\n",
    "print series"
   ]
  },
  {
   "cell_type": "code",
   "execution_count": 5,
   "metadata": {},
   "outputs": [
    {
     "name": "stdout",
     "output_type": "stream",
     "text": [
      "Series Mean:  9.35714285714\n",
      "Series Median:  7.0\n",
      "Series Mode:  ModeResult(mode=array([7], dtype=int64), count=array([3]))\n",
      "Series Q1, Q2(Median) and Q3:  [3.5 7.  9. ]\n",
      "\n",
      "Series Shape:  (14L,)\n",
      "\n",
      "Series Count:  14\n",
      "\n",
      "Summary Series: \n",
      "count    14.000000\n",
      "mean      9.357143\n",
      "std       9.467411\n",
      "min       1.000000\n",
      "25%       3.250000\n",
      "50%       7.000000\n",
      "75%       9.500000\n",
      "max      36.000000\n",
      "dtype: float64\n",
      "\n",
      "Value Count Series: \n",
      "7     3\n",
      "3     2\n",
      "15    1\n",
      "36    1\n",
      "10    1\n",
      "22    1\n",
      "8     1\n",
      "6     1\n",
      "4     1\n",
      "2     1\n",
      "1     1\n",
      "dtype: int64\n"
     ]
    }
   ],
   "source": [
    "# 1. All operations on series\n",
    "\n",
    "# Mathematical terms\n",
    "print \"Series Mean: \", np.mean(series)\n",
    "print \"Series Median: \", np.median(series)\n",
    "print \"Series Mode: \", stats.mode(series)\n",
    "print \"Series Q1, Q2(Median) and Q3: \", np.percentile(a=series, q=[25, 50, 75], interpolation='midpoint')\n",
    "\n",
    "# Shape of Series\n",
    "print ''\n",
    "print \"Series Shape: \", series.shape\n",
    "# Count total number of element\n",
    "print ''\n",
    "print \"Series Count: \", series.count() \n",
    "\n",
    "# Summary of series\n",
    "print ''\n",
    "print \"Summary Series: \\n\", series.describe()\n",
    "\n",
    "# Count the value of individual items (Useful with categorical variables)\n",
    "print ''\n",
    "print \"Value Count Series: \\n\",series.value_counts()"
   ]
  },
  {
   "cell_type": "code",
   "execution_count": null,
   "metadata": {},
   "outputs": [],
   "source": []
  }
 ],
 "metadata": {
  "kernelspec": {
   "display_name": "Python 2",
   "language": "python",
   "name": "python2"
  },
  "language_info": {
   "codemirror_mode": {
    "name": "ipython",
    "version": 2
   },
   "file_extension": ".py",
   "mimetype": "text/x-python",
   "name": "python",
   "nbconvert_exporter": "python",
   "pygments_lexer": "ipython2",
   "version": "2.7.15"
  }
 },
 "nbformat": 4,
 "nbformat_minor": 2
}
